{
 "cells": [
  {
   "cell_type": "code",
   "execution_count": 224,
   "id": "fa735c2c",
   "metadata": {},
   "outputs": [],
   "source": [
    "import  pandas as pd\n",
    "import numpy as np\n",
    "import matplotlib.pyplot as plt\n",
    "import seaborn as sns\n"
   ]
  },
  {
   "cell_type": "code",
   "execution_count": 225,
   "id": "b53038fd",
   "metadata": {},
   "outputs": [],
   "source": [
    "df=pd.read_csv(r\"C:\\Users\\anjup\\Downloads\\car_age_price.csv\")"
   ]
  },
  {
   "cell_type": "code",
   "execution_count": 226,
   "id": "1b6c0797",
   "metadata": {},
   "outputs": [
    {
     "data": {
      "text/html": [
       "<div>\n",
       "<style scoped>\n",
       "    .dataframe tbody tr th:only-of-type {\n",
       "        vertical-align: middle;\n",
       "    }\n",
       "\n",
       "    .dataframe tbody tr th {\n",
       "        vertical-align: top;\n",
       "    }\n",
       "\n",
       "    .dataframe thead th {\n",
       "        text-align: right;\n",
       "    }\n",
       "</style>\n",
       "<table border=\"1\" class=\"dataframe\">\n",
       "  <thead>\n",
       "    <tr style=\"text-align: right;\">\n",
       "      <th></th>\n",
       "      <th>Year</th>\n",
       "      <th>Price</th>\n",
       "    </tr>\n",
       "  </thead>\n",
       "  <tbody>\n",
       "    <tr>\n",
       "      <th>0</th>\n",
       "      <td>2018</td>\n",
       "      <td>465000</td>\n",
       "    </tr>\n",
       "    <tr>\n",
       "      <th>1</th>\n",
       "      <td>2019</td>\n",
       "      <td>755000</td>\n",
       "    </tr>\n",
       "    <tr>\n",
       "      <th>2</th>\n",
       "      <td>2019</td>\n",
       "      <td>700000</td>\n",
       "    </tr>\n",
       "    <tr>\n",
       "      <th>3</th>\n",
       "      <td>2018</td>\n",
       "      <td>465000</td>\n",
       "    </tr>\n",
       "    <tr>\n",
       "      <th>4</th>\n",
       "      <td>2018</td>\n",
       "      <td>465000</td>\n",
       "    </tr>\n",
       "    <tr>\n",
       "      <th>...</th>\n",
       "      <td>...</td>\n",
       "      <td>...</td>\n",
       "    </tr>\n",
       "    <tr>\n",
       "      <th>107</th>\n",
       "      <td>2016</td>\n",
       "      <td>375000</td>\n",
       "    </tr>\n",
       "    <tr>\n",
       "      <th>108</th>\n",
       "      <td>2014</td>\n",
       "      <td>300000</td>\n",
       "    </tr>\n",
       "    <tr>\n",
       "      <th>109</th>\n",
       "      <td>2015</td>\n",
       "      <td>425000</td>\n",
       "    </tr>\n",
       "    <tr>\n",
       "      <th>110</th>\n",
       "      <td>2016</td>\n",
       "      <td>420000</td>\n",
       "    </tr>\n",
       "    <tr>\n",
       "      <th>111</th>\n",
       "      <td>2015</td>\n",
       "      <td>425000</td>\n",
       "    </tr>\n",
       "  </tbody>\n",
       "</table>\n",
       "<p>112 rows × 2 columns</p>\n",
       "</div>"
      ],
      "text/plain": [
       "     Year   Price\n",
       "0    2018  465000\n",
       "1    2019  755000\n",
       "2    2019  700000\n",
       "3    2018  465000\n",
       "4    2018  465000\n",
       "..    ...     ...\n",
       "107  2016  375000\n",
       "108  2014  300000\n",
       "109  2015  425000\n",
       "110  2016  420000\n",
       "111  2015  425000\n",
       "\n",
       "[112 rows x 2 columns]"
      ]
     },
     "execution_count": 226,
     "metadata": {},
     "output_type": "execute_result"
    }
   ],
   "source": [
    "df"
   ]
  },
  {
   "cell_type": "code",
   "execution_count": 227,
   "id": "122338ac",
   "metadata": {},
   "outputs": [
    {
     "name": "stdout",
     "output_type": "stream",
     "text": [
      "<class 'pandas.core.frame.DataFrame'>\n",
      "RangeIndex: 112 entries, 0 to 111\n",
      "Data columns (total 2 columns):\n",
      " #   Column  Non-Null Count  Dtype\n",
      "---  ------  --------------  -----\n",
      " 0   Year    112 non-null    int64\n",
      " 1   Price   112 non-null    int64\n",
      "dtypes: int64(2)\n",
      "memory usage: 1.9 KB\n"
     ]
    }
   ],
   "source": [
    "df.info()"
   ]
  },
  {
   "cell_type": "code",
   "execution_count": 228,
   "id": "ff616f69",
   "metadata": {},
   "outputs": [
    {
     "data": {
      "text/plain": [
       "Year     0\n",
       "Price    0\n",
       "dtype: int64"
      ]
     },
     "execution_count": 228,
     "metadata": {},
     "output_type": "execute_result"
    }
   ],
   "source": [
    "#CHECK IF THERE IS ANY MISSING VALUES\n",
    "df.isnull().sum()"
   ]
  },
  {
   "cell_type": "code",
   "execution_count": 229,
   "id": "c3bfe15b",
   "metadata": {},
   "outputs": [
    {
     "data": {
      "image/png": "[encoded data removed]",
      "text/plain": [
       "<Figure size 720x576 with 2 Axes>"
      ]
     },
     "metadata": {
      "needs_background": "light"
     },
     "output_type": "display_data"
    }
   ],
   "source": [
    "#Plotting the data to see the distribution\n",
    "df.hist(figsize=(10,8), color= 'lightblue')\n",
    "plt.show()"
   ]
  },
  {
   "cell_type": "code",
   "execution_count": 230,
   "id": "c580cb80",
   "metadata": {},
   "outputs": [],
   "source": [
    "#FIND THE CORRELATION\n",
    "corr_matrix=df.corr()"
   ]
  },
  {
   "cell_type": "code",
   "execution_count": 231,
   "id": "5bb79edc",
   "metadata": {},
   "outputs": [
    {
     "data": {
      "image/png": "[encoded data removed]",
      "text/plain": [
       "<Figure size 432x288 with 2 Axes>"
      ]
     },
     "metadata": {
      "needs_background": "light"
     },
     "output_type": "display_data"
    }
   ],
   "source": [
    "sns.heatmap(corr_matrix,annot=True,cmap='YlGnBu')\n",
    "plt.show()"
   ]
  },
  {
   "cell_type": "code",
   "execution_count": 232,
   "id": "714ca3a3",
   "metadata": {},
   "outputs": [
    {
     "data": {
      "text/html": [
       "<div>\n",
       "<style scoped>\n",
       "    .dataframe tbody tr th:only-of-type {\n",
       "        vertical-align: middle;\n",
       "    }\n",
       "\n",
       "    .dataframe tbody tr th {\n",
       "        vertical-align: top;\n",
       "    }\n",
       "\n",
       "    .dataframe thead th {\n",
       "        text-align: right;\n",
       "    }\n",
       "</style>\n",
       "<table border=\"1\" class=\"dataframe\">\n",
       "  <thead>\n",
       "    <tr style=\"text-align: right;\">\n",
       "      <th></th>\n",
       "      <th>Year</th>\n",
       "    </tr>\n",
       "  </thead>\n",
       "  <tbody>\n",
       "    <tr>\n",
       "      <th>0</th>\n",
       "      <td>2018</td>\n",
       "    </tr>\n",
       "    <tr>\n",
       "      <th>1</th>\n",
       "      <td>2019</td>\n",
       "    </tr>\n",
       "    <tr>\n",
       "      <th>2</th>\n",
       "      <td>2019</td>\n",
       "    </tr>\n",
       "    <tr>\n",
       "      <th>3</th>\n",
       "      <td>2018</td>\n",
       "    </tr>\n",
       "    <tr>\n",
       "      <th>4</th>\n",
       "      <td>2018</td>\n",
       "    </tr>\n",
       "    <tr>\n",
       "      <th>...</th>\n",
       "      <td>...</td>\n",
       "    </tr>\n",
       "    <tr>\n",
       "      <th>107</th>\n",
       "      <td>2016</td>\n",
       "    </tr>\n",
       "    <tr>\n",
       "      <th>108</th>\n",
       "      <td>2014</td>\n",
       "    </tr>\n",
       "    <tr>\n",
       "      <th>109</th>\n",
       "      <td>2015</td>\n",
       "    </tr>\n",
       "    <tr>\n",
       "      <th>110</th>\n",
       "      <td>2016</td>\n",
       "    </tr>\n",
       "    <tr>\n",
       "      <th>111</th>\n",
       "      <td>2015</td>\n",
       "    </tr>\n",
       "  </tbody>\n",
       "</table>\n",
       "<p>112 rows × 1 columns</p>\n",
       "</div>"
      ],
      "text/plain": [
       "     Year\n",
       "0    2018\n",
       "1    2019\n",
       "2    2019\n",
       "3    2018\n",
       "4    2018\n",
       "..    ...\n",
       "107  2016\n",
       "108  2014\n",
       "109  2015\n",
       "110  2016\n",
       "111  2015\n",
       "\n",
       "[112 rows x 1 columns]"
      ]
     },
     "execution_count": 232,
     "metadata": {},
     "output_type": "execute_result"
    }
   ],
   "source": [
    "#Taking Year as an independent variable\n",
    "x= df.drop(['Price'],axis=1)\n",
    "x\n"
   ]
  },
  {
   "cell_type": "code",
   "execution_count": 261,
   "id": "a5d437db",
   "metadata": {},
   "outputs": [
    {
     "data": {
      "text/plain": [
       "0      465000\n",
       "1      755000\n",
       "2      700000\n",
       "3      465000\n",
       "4      465000\n",
       "        ...  \n",
       "107    375000\n",
       "108    300000\n",
       "109    425000\n",
       "110    420000\n",
       "111    425000\n",
       "Name: Price, Length: 112, dtype: int64"
      ]
     },
     "execution_count": 261,
     "metadata": {},
     "output_type": "execute_result"
    }
   ],
   "source": [
    "#Taking Price as target variable\n",
    "y=df['Price'].squeeze()\n",
    "y"
   ]
  },
  {
   "cell_type": "markdown",
   "id": "d14d398b",
   "metadata": {},
   "source": [
    "# LINEAR REGRESSION"
   ]
  },
  {
   "cell_type": "code",
   "execution_count": 234,
   "id": "62b66da6",
   "metadata": {},
   "outputs": [],
   "source": [
    "#spliting the data into training and testing sets\n",
    "from sklearn.model_selection import train_test_split\n",
    "x_train,x_test,y_train,y_test= train_test_split(x,y,test_size=0.2,random_state=42)"
   ]
  },
  {
   "cell_type": "code",
   "execution_count": 272,
   "id": "0b0f7244",
   "metadata": {},
   "outputs": [],
   "source": [
    "#create and fit the linear regression model\n",
    "from sklearn.linear_model import LinearRegression\n",
    "linear_regression=LinearRegression()\n",
    "model=linear_regression.fit(x_train,y_train)\n"
   ]
  },
  {
   "cell_type": "code",
   "execution_count": 273,
   "id": "da32367f",
   "metadata": {},
   "outputs": [],
   "source": [
    "#Making predictions\n",
    "linear_prediction=model.predict(x_test)\n"
   ]
  },
  {
   "cell_type": "code",
   "execution_count": 274,
   "id": "3064e20e",
   "metadata": {},
   "outputs": [
    {
     "data": {
      "image/png": "[encoded data removed]",
      "text/plain": [
       "<Figure size 432x288 with 1 Axes>"
      ]
     },
     "metadata": {
      "needs_background": "light"
     },
     "output_type": "display_data"
    }
   ],
   "source": [
    "linear_prediction =model.predict(x_test)\n",
    "plt.scatter (x_test.squeeze(),y_test,color='r')\n",
    "plt.plot(x_test.squeeze(),linear_prediction,color='green')\n",
    "plt.xlabel('Year')\n",
    "plt.ylabel('Price')\n",
    "plt.title('Linear Regression')\n",
    "plt.show()"
   ]
  },
  {
   "cell_type": "code",
   "execution_count": 300,
   "id": "f5a01d12",
   "metadata": {},
   "outputs": [
    {
     "data": {
      "text/plain": [
       "array([47608.56780808])"
      ]
     },
     "execution_count": 300,
     "metadata": {},
     "output_type": "execute_result"
    }
   ],
   "source": [
    "#The coefficient values indicate the strength and direction of the relationship between the independent variable (year) and the target variable (price). \n",
    "linear_coefficients = linear_regression.coef_\n",
    "linear_coefficients"
   ]
  },
  {
   "cell_type": "code",
   "execution_count": 275,
   "id": "383a8f7a",
   "metadata": {},
   "outputs": [],
   "source": [
    "#checking the performance of Linear regression with evaluation of metrics\n",
    "from sklearn.metrics import mean_squared_error,r2_score,mean_absolute_error"
   ]
  },
  {
   "cell_type": "code",
   "execution_count": 276,
   "id": "b795c816",
   "metadata": {},
   "outputs": [
    {
     "name": "stdout",
     "output_type": "stream",
     "text": [
      "Mean Squared Error(MSE) : 4326906256.829671\n",
      "Rsquared value= 0.36759313425902185\n",
      "Mean Absolute Error : 53534.77957001264\n",
      "Root Mean sqaured Error  : 65779.22359552195\n",
      "Linear Regression Score 0.36759313425902185\n"
     ]
    }
   ],
   "source": [
    "print('Mean Squared Error(MSE) :',mean_squared_error(y_test,linear_predictions))\n",
    "print('Rsquared value=',r2_score(y_test,linear_predictions))\n",
    "print(\"Mean Absolute Error :\",mean_absolute_error(y_test,linear_predictions))\n",
    "RMSE= np.sqrt(mean_squared_error(y_test,linear_predictions))\n",
    "print(\"Root Mean sqaured Error  :\" ,RMSE)\n",
    "print(\"Linear Regression Score\",linear_regression.score(x_test,y_test))"
   ]
  },
  {
   "cell_type": "markdown",
   "id": "eb615902",
   "metadata": {},
   "source": [
    "# LASSO REGRESSION"
   ]
  },
  {
   "cell_type": "code",
   "execution_count": 304,
   "id": "df88d207",
   "metadata": {},
   "outputs": [],
   "source": [
    "#create and fit the linear regression model\n",
    "from sklearn.linear_model import Lasso\n",
    "lasso_regression=Lasso(alpha=1.0)\n",
    "model1=lasso_regression.fit(x_train,y_train)"
   ]
  },
  {
   "cell_type": "code",
   "execution_count": 305,
   "id": "a302f84d",
   "metadata": {},
   "outputs": [],
   "source": [
    "#Making predictions\n",
    "lasso_predictions=model1.predict(x_test)"
   ]
  },
  {
   "cell_type": "code",
   "execution_count": 306,
   "id": "f8fca0fa",
   "metadata": {},
   "outputs": [
    {
     "data": {
      "image/png": "[encoded data removed]",
      "text/plain": [
       "<Figure size 432x288 with 1 Axes>"
      ]
     },
     "metadata": {
      "needs_background": "light"
     },
     "output_type": "display_data"
    }
   ],
   "source": [
    "lasso_predictions =model1.predict(x_test)\n",
    "plt.scatter (x_test.squeeze(),y_test,color='black')\n",
    "plt.plot(x_test.squeeze(),linear_prediction,color='r')\n",
    "plt.xlabel('Year')\n",
    "plt.ylabel('Price')\n",
    "plt.title('Lasso Regression')\n",
    "plt.show()"
   ]
  },
  {
   "cell_type": "code",
   "execution_count": 307,
   "id": "243c0443",
   "metadata": {},
   "outputs": [
    {
     "data": {
      "text/plain": [
       "array([47608.1555995])"
      ]
     },
     "execution_count": 307,
     "metadata": {},
     "output_type": "execute_result"
    }
   ],
   "source": [
    "##The coefficient values indicate the strength and direction of the relationship between the independent variable (year) and the target variable (price). \n",
    "lasso_coefficients = lasso_regression.coef_\n",
    "lasso_coefficients"
   ]
  },
  {
   "cell_type": "code",
   "execution_count": 308,
   "id": "dc6c9ba7",
   "metadata": {},
   "outputs": [],
   "source": [
    "#checking the performance of Lasso regression with evaluation of metrics\n",
    "from sklearn.metrics import mean_squared_error,r2_score,mean_absolute_error"
   ]
  },
  {
   "cell_type": "code",
   "execution_count": 309,
   "id": "4ccfca20",
   "metadata": {},
   "outputs": [
    {
     "name": "stdout",
     "output_type": "stream",
     "text": [
      "Mean Absolute Error 53534.33030898286\n",
      "Mean Squared Error(MSE) : 4326859771.015669\n",
      "Rsquared value= 0.3675999284778446\n",
      "Root Mean sqaured Error  : 65778.8702473345\n",
      "Lasso Regression Score 0.3675999284778446\n"
     ]
    }
   ],
   "source": [
    "print(\"Mean Absolute Error\",mean_absolute_error(y_test,lasso_predictions))\n",
    "print('Mean Squared Error(MSE) :',mean_squared_error(y_test,lasso_predictions))\n",
    "print('Rsquared value=',r2_score(y_test,lasso_predictions))\n",
    "RMSE= np.sqrt(mean_squared_error(y_test,lasso_predictions))\n",
    "print(\"Root Mean sqaured Error  :\" ,RMSE)\n",
    "print(\"Lasso Regression Score\",lasso_regression.score(x_test,y_test))"
   ]
  },
  {
   "cell_type": "markdown",
   "id": "2519b9bf",
   "metadata": {},
   "source": [
    "# Predicting the possible price of a 2022 model second-hand grand i10"
   ]
  },
  {
   "cell_type": "code",
   "execution_count": 310,
   "id": "e165afe3",
   "metadata": {
    "scrolled": true
   },
   "outputs": [
    {
     "name": "stdout",
     "output_type": "stream",
     "text": [
      "Predicted Price of 2022 model (Linear Regression): 743601.6159450412\n",
      "Predicted Price of 2022 model (Lasso Regression): 743599.3742714375\n"
     ]
    }
   ],
   "source": [
    "year_2022 = pd.DataFrame({'Year': [2022]})\n",
    "linear_price_2022 = linear_regression.predict(year_2022)\n",
    "lasso_price_2022 = lasso_regression.predict(year_2022)\n",
    "\n",
    "print(\"Predicted Price of 2022 model (Linear Regression):\", linear_price_2022[0])\n",
    "print(\"Predicted Price of 2022 model (Lasso Regression):\", lasso_price_2022[0])"
   ]
  },
  {
   "cell_type": "markdown",
   "id": "6de401e8",
   "metadata": {},
   "source": [
    "# Observations according to the metrics"
   ]
  },
  {
   "cell_type": "markdown",
   "id": "a4f0a529",
   "metadata": {},
   "source": [
    "Mean Squared Error (MSE): The MSE for both models is very close, with the Linear Regression model having an MSE of 4,326,906,256.83 and the Lasso Regression model having an MSE of 4,326,859,771.02. Lower values of MSE indicate better performance, so the Lasso Regression model has a slightly lower MSE.\n",
    "\n",
    "R-squared value: Both models have similar R-squared values, with the Linear Regression model having an R-squared value of 0.3676 and the Lasso Regression model having an R-squared value of 0.3676. In this case, both models explain approximately 36.76% of the variance in the price.\n",
    "\n",
    "Mean Absolute Error (MAE): The MAE for both models is also very close, with the Linear Regression model having an MAE of 53,534.78 and the Lasso Regression model having an MAE of 53,534.33. Lower values of MAE indicate better performance, but the difference between the two models is minimal.\n",
    "\n",
    "Root Mean Squared Error (RMSE): The RMSE for both models is very close as well, with the Linear Regression model having an RMSE of 65,779.22 and the Lasso Regression model having an RMSE of 65,778.87. Lower values of RMSE indicate better performance, but the difference between the two models is minimal."
   ]
  },
  {
   "cell_type": "markdown",
   "id": "3c0cdec6",
   "metadata": {},
   "source": [
    "# Result "
   ]
  },
  {
   "cell_type": "markdown",
   "id": "7982c69f",
   "metadata": {},
   "source": [
    "Based on these metrics, it can be concluded that both models have very similar performance on the given dataset. \n",
    "\n",
    "Based on the predicted prices for the 2022 model, the Linear Regression model and Lasso Regression model provide similar results. The predicted price using Linear Regression is 743,601.62, and the predicted price using Lasso Regression is 743,599.37. The difference between the two predictions is negligible.\n",
    "\n",
    "In this case, both models perform similarly, and the difference in predicted prices is minimal. "
   ]
  },
  {
   "cell_type": "code",
   "execution_count": null,
   "id": "e8d9b6df",
   "metadata": {},
   "outputs": [],
   "source": []
  }
 ],
 "metadata": {
  "kernelspec": {
   "display_name": "Python 3 (ipykernel)",
   "language": "python",
   "name": "python3"
  },
  "language_info": {
   "codemirror_mode": {
    "name": "ipython",
    "version": 3
   },
   "file_extension": ".py",
   "mimetype": "text/x-python",
   "name": "python",
   "nbconvert_exporter": "python",
   "pygments_lexer": "ipython3",
   "version": "3.9.12"
  }
 },
 "nbformat": 4,
 "nbformat_minor": 5
}
